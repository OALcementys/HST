{
 "cells": [
  {
   "cell_type": "code",
   "execution_count": 1,
   "id": "f54a01cc",
   "metadata": {},
   "outputs": [
    {
     "name": "stdout",
     "output_type": "stream",
     "text": [
      "(59882,) (13, 59882)\n",
      "t = 2499, loss: 0.48, score : 0.106\n",
      "t = 2499, loss: 0.51, score : 0.101\n",
      "t = 2499, loss: 0.51, score : 0.101\n",
      "t = 2499, loss: 0.43, score : 0.117\n",
      "t = 2499, loss: 0.52, score : 0.102\n",
      "t = 2499, loss: 0.49, score : 0.103\n",
      "final score : 0.105\n"
     ]
    }
   ],
   "source": [
    "from HST_variations import *"
   ]
  },
  {
   "cell_type": "code",
   "execution_count": null,
   "id": "f01cb48d",
   "metadata": {},
   "outputs": [],
   "source": [
    "data=pd.read_csv('observations_data.csv')\n",
    "data=data.dropna()\n",
    "data = data.rename(index=str,columns= {'SID Brest: Limni_3_mH2O[mH20]': \"SID Brest: Limni_3_mH2O[mH20]\"}) \n",
    "data['Time'] = pd.to_datetime(data['Time'])"
   ]
  },
  {
   "cell_type": "code",
   "execution_count": null,
   "id": "1a783ea5",
   "metadata": {},
   "outputs": [],
   "source": [
    "wl_column='SID Brest: Limni_3_mH2O[mH20]'\n",
    "temp_column='SID Brest: PTemp[N/A]'\n",
    "pression_column='SID Brest: SONDE_04_kPa[kPa]'\n",
    "inclinaison_column= 'SID Brest: INC_IPI03_°[°]'"
   ]
  },
  {
   "cell_type": "code",
   "execution_count": null,
   "id": "d58c0e46",
   "metadata": {},
   "outputs": [],
   "source": [
    "model='HSTtemp'\n",
    "target_column= data.columns[3]\n",
    "matrix=np.array(prepare_prediction(data,model)).T\n",
    "target=np.array(data[target_column])\n",
    "print(target.shape,matrix.shape)"
   ]
  },
  {
   "cell_type": "code",
   "execution_count": null,
   "id": "4ebc34ec",
   "metadata": {},
   "outputs": [],
   "source": [
    "k_fold_cross(matrix,target)"
   ]
  }
 ],
 "metadata": {
  "kernelspec": {
   "display_name": "Python 3 (ipykernel)",
   "language": "python",
   "name": "python3"
  },
  "language_info": {
   "codemirror_mode": {
    "name": "ipython",
    "version": 3
   },
   "file_extension": ".py",
   "mimetype": "text/x-python",
   "name": "python",
   "nbconvert_exporter": "python",
   "pygments_lexer": "ipython3",
   "version": "3.9.7"
  }
 },
 "nbformat": 4,
 "nbformat_minor": 5
}
