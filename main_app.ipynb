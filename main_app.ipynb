{
 "cells": [
  {
   "cell_type": "code",
   "execution_count": 16,
   "id": "caec8030",
   "metadata": {},
   "outputs": [],
   "source": [
    "from database import *\n",
    "import psycopg2\n",
    "from HST_variations import *\n",
    "from psycopg2.extras import register_json\n",
    "import pandas as pd\n",
    "from io import StringIO\n",
    "import os\n",
    "import pandas as pd\n",
    "import json\n",
    "import numpy as np\n",
    "import warnings\n",
    "warnings.filterwarnings('ignore')"
   ]
  },
  {
   "cell_type": "code",
   "execution_count": 17,
   "id": "4e5e1e7e",
   "metadata": {},
   "outputs": [],
   "source": [
    "dbHost = '13.36.221.162'\n",
    "dbName = 'thminsight'\n",
    "dbUser = 'thminsight'\n",
    "dbPort = '5432'\n",
    "dbPassword = 'psS8hqr6oaoJ7fgk'"
   ]
  },
  {
   "cell_type": "code",
   "execution_count": 18,
   "id": "66b9c61f",
   "metadata": {},
   "outputs": [
    {
     "name": "stdout",
     "output_type": "stream",
     "text": [
      "Database Ready\n",
      "Database Ready\n"
     ]
    }
   ],
   "source": [
    "db=Database(dbHost, dbName, dbUser,dbPassword,dbPort )\n",
    "queryManager = Query(dbHost, dbName, dbUser,dbPort, dbPassword)"
   ]
  },
  {
   "cell_type": "code",
   "execution_count": 19,
   "id": "a6626a0c",
   "metadata": {},
   "outputs": [],
   "source": [
    "id_temperature_var = 1245\n",
    "id_water_level_var = 1246\n",
    "id_tv_var=1238\n",
    "id_new_var=1238\n",
    "id_new_var2=1238\n",
    "id_res_var = 0\n",
    "res_metric_id = 47\n",
    "res_name = 'res'"
   ]
  },
  {
   "cell_type": "code",
   "execution_count": 23,
   "id": "cdf9a632",
   "metadata": {},
   "outputs": [],
   "source": [
    "model=[]\n",
    "dataframes=[]\n",
    "def get_targetvr_df(id_tv_var):\n",
    "    target_column= 'target_variable'\n",
    "    target_variable_name=queryManager.get_variable_name_by_id(id_tv_var)\n",
    "    df_def = queryManager.get_df_by_variable_id(id_tv_var, target_column)\n",
    "    assert queryManager.get_variable_metric(id_temperature_var)=='°C'\n",
    "    dataframes.append(df_def)\n",
    "    return df_def\n",
    "def get_temp_df(id_temperature_var):\n",
    "    df_temp= queryManager.get_df_by_variable_id(id_temperature_var, 'temperature')\n",
    "    model.append('temp')\n",
    "    dataframes.append(df_temp)\n",
    "    return df_temp,model\n",
    "def get_waterlevel_df(id_tv_var):\n",
    "    df_def = queryManager.get_df_by_variable_id(id_water_level_var, 'water_level')\n",
    "    assert queryManager.get_variable_metric(id_water_level_var)=='mA'\n",
    "    model.append('H')\n",
    "    dataframes.append(df_def)\n",
    "    return df_def,model\n",
    "def get_var_df(id_vr):\n",
    "    variable_name=queryManager.get_variable_name_by_id(id_tv_var)\n",
    "    df_def = queryManager.get_df_by_variable_id(id_vr, variable_name)\n",
    "    model.append(variable_name)\n",
    "    dataframes.append(df_def)\n",
    "    return df_def,model    "
   ]
  },
  {
   "cell_type": "code",
   "execution_count": 37,
   "id": "d4acc4b9",
   "metadata": {},
   "outputs": [],
   "source": [
    "json_path='./test.json'\n",
    "f = open(json_path)"
   ]
  },
  {
   "cell_type": "code",
   "execution_count": 24,
   "id": "edb07fb3",
   "metadata": {},
   "outputs": [
    {
     "data": {
      "text/plain": [
       "(                     timestamp  Distance\n",
       " 0    2022-02-19 09:28:36+00:00      -1.0\n",
       " 1    2022-02-18 05:08:44+00:00      -1.0\n",
       " 2    2022-02-23 01:48:13+00:00      -1.0\n",
       " 3    2022-02-22 08:28:17+00:00      -1.0\n",
       " 4    2022-02-22 22:28:14+00:00      -1.0\n",
       " ...                        ...       ...\n",
       " 5049 2022-04-12 12:04:07+00:00      -1.0\n",
       " 5050 2022-04-12 12:44:06+00:00      -1.0\n",
       " 5051 2022-04-12 13:04:06+00:00      -1.0\n",
       " 5052 2022-04-12 13:24:06+00:00      -1.0\n",
       " 5053 2022-04-12 14:04:06+00:00      -1.0\n",
       " \n",
       " [5054 rows x 2 columns],\n",
       " ['H', 'temp', 'Distance'])"
      ]
     },
     "execution_count": 24,
     "metadata": {},
     "output_type": "execute_result"
    }
   ],
   "source": [
    "get_targetvr_df(id_tv_var)\n",
    "get_waterlevel_df(id_tv_var)\n",
    "get_temp_df(id_temperature_var)\n",
    "get_var_df(id_new_var)\n",
    "#get_var_df(id_new_var2)"
   ]
  },
  {
   "cell_type": "code",
   "execution_count": 29,
   "id": "eed0a93e",
   "metadata": {},
   "outputs": [
    {
     "data": {
      "text/plain": [
       "['H', 'temp', 'Distance', 'T', 'S']"
      ]
     },
     "execution_count": 29,
     "metadata": {},
     "output_type": "execute_result"
    }
   ],
   "source": [
    "model+=['T','S']\n",
    "model"
   ]
  },
  {
   "cell_type": "code",
   "execution_count": null,
   "id": "966732f3",
   "metadata": {},
   "outputs": [],
   "source": []
  },
  {
   "cell_type": "code",
   "execution_count": 30,
   "id": "7c69e944",
   "metadata": {},
   "outputs": [
    {
     "data": {
      "text/html": [
       "<div>\n",
       "<style scoped>\n",
       "    .dataframe tbody tr th:only-of-type {\n",
       "        vertical-align: middle;\n",
       "    }\n",
       "\n",
       "    .dataframe tbody tr th {\n",
       "        vertical-align: top;\n",
       "    }\n",
       "\n",
       "    .dataframe thead th {\n",
       "        text-align: right;\n",
       "    }\n",
       "</style>\n",
       "<table border=\"1\" class=\"dataframe\">\n",
       "  <thead>\n",
       "    <tr style=\"text-align: right;\">\n",
       "      <th></th>\n",
       "      <th>temperature</th>\n",
       "      <th>target_variable</th>\n",
       "      <th>water_level</th>\n",
       "      <th>Distance</th>\n",
       "      <th>Time</th>\n",
       "    </tr>\n",
       "  </thead>\n",
       "  <tbody>\n",
       "    <tr>\n",
       "      <th>0</th>\n",
       "      <td>-3.059853</td>\n",
       "      <td>-1.0</td>\n",
       "      <td>5.380181</td>\n",
       "      <td>-1.0</td>\n",
       "      <td>2021-12-22 07:36:25</td>\n",
       "    </tr>\n",
       "    <tr>\n",
       "      <th>1</th>\n",
       "      <td>-2.744339</td>\n",
       "      <td>-1.0</td>\n",
       "      <td>5.380181</td>\n",
       "      <td>-1.0</td>\n",
       "      <td>2021-12-22 07:56:26</td>\n",
       "    </tr>\n",
       "    <tr>\n",
       "      <th>2</th>\n",
       "      <td>-2.375446</td>\n",
       "      <td>-1.0</td>\n",
       "      <td>5.379704</td>\n",
       "      <td>-1.0</td>\n",
       "      <td>2021-12-22 08:16:25</td>\n",
       "    </tr>\n",
       "    <tr>\n",
       "      <th>3</th>\n",
       "      <td>-1.943739</td>\n",
       "      <td>-1.0</td>\n",
       "      <td>5.375498</td>\n",
       "      <td>-1.0</td>\n",
       "      <td>2021-12-22 08:36:35</td>\n",
       "    </tr>\n",
       "    <tr>\n",
       "      <th>4</th>\n",
       "      <td>-1.393096</td>\n",
       "      <td>-1.0</td>\n",
       "      <td>5.376279</td>\n",
       "      <td>-1.0</td>\n",
       "      <td>2021-12-22 08:56:25</td>\n",
       "    </tr>\n",
       "  </tbody>\n",
       "</table>\n",
       "</div>"
      ],
      "text/plain": [
       "   temperature  target_variable  water_level  Distance                Time\n",
       "0    -3.059853             -1.0     5.380181      -1.0 2021-12-22 07:36:25\n",
       "1    -2.744339             -1.0     5.380181      -1.0 2021-12-22 07:56:26\n",
       "2    -2.375446             -1.0     5.379704      -1.0 2021-12-22 08:16:25\n",
       "3    -1.943739             -1.0     5.375498      -1.0 2021-12-22 08:36:35\n",
       "4    -1.393096             -1.0     5.376279      -1.0 2021-12-22 08:56:25"
      ]
     },
     "execution_count": 30,
     "metadata": {},
     "output_type": "execute_result"
    }
   ],
   "source": [
    "df=final_prep(dataframes,option='tolerance sampling')\n",
    "df.head()"
   ]
  },
  {
   "cell_type": "code",
   "execution_count": 31,
   "id": "3a2b9f4b",
   "metadata": {},
   "outputs": [],
   "source": [
    "optimizers_list=['SGD','Adam', 'AdamW','Adamax','ASGD','Adagrad']\n",
    "methods_list=['std_regression',\n",
    "              'std_regression_cross',\n",
    "              'use_NN_optimizer',\n",
    "              'use_NN_optimizer_cross',\n",
    "             'use_bayesian_approch']"
   ]
  },
  {
   "cell_type": "code",
   "execution_count": 32,
   "id": "a65768f2",
   "metadata": {},
   "outputs": [
    {
     "name": "stdout",
     "output_type": "stream",
     "text": [
      "std_regression SGD\n",
      "std_regression_cross Adam\n",
      "use_NN_optimizer AdamW\n",
      "use_NN_optimizer_cross Adamax\n",
      "use_bayesian_approch ASGD\n"
     ]
    },
    {
     "data": {
      "text/html": [
       "<div>\n",
       "<style scoped>\n",
       "    .dataframe tbody tr th:only-of-type {\n",
       "        vertical-align: middle;\n",
       "    }\n",
       "\n",
       "    .dataframe tbody tr th {\n",
       "        vertical-align: top;\n",
       "    }\n",
       "\n",
       "    .dataframe thead th {\n",
       "        text-align: right;\n",
       "    }\n",
       "</style>\n",
       "<table border=\"1\" class=\"dataframe\">\n",
       "  <thead>\n",
       "    <tr style=\"text-align: right;\">\n",
       "      <th></th>\n",
       "      <th>corrected observation</th>\n",
       "      <th>temperature</th>\n",
       "      <th>target_variable</th>\n",
       "      <th>water_level</th>\n",
       "      <th>Distance</th>\n",
       "      <th>Time</th>\n",
       "    </tr>\n",
       "  </thead>\n",
       "  <tbody>\n",
       "    <tr>\n",
       "      <th>0</th>\n",
       "      <td>-1.637105e-10</td>\n",
       "      <td>-3.059853</td>\n",
       "      <td>-1.0</td>\n",
       "      <td>5.380181</td>\n",
       "      <td>-1.0</td>\n",
       "      <td>2021-12-22 07:36:25</td>\n",
       "    </tr>\n",
       "    <tr>\n",
       "      <th>1</th>\n",
       "      <td>-1.649122e-10</td>\n",
       "      <td>-2.744339</td>\n",
       "      <td>-1.0</td>\n",
       "      <td>5.380181</td>\n",
       "      <td>-1.0</td>\n",
       "      <td>2021-12-22 07:56:26</td>\n",
       "    </tr>\n",
       "    <tr>\n",
       "      <th>2</th>\n",
       "      <td>-1.679672e-10</td>\n",
       "      <td>-2.375446</td>\n",
       "      <td>-1.0</td>\n",
       "      <td>5.379704</td>\n",
       "      <td>-1.0</td>\n",
       "      <td>2021-12-22 08:16:25</td>\n",
       "    </tr>\n",
       "    <tr>\n",
       "      <th>3</th>\n",
       "      <td>-1.692284e-10</td>\n",
       "      <td>-1.943739</td>\n",
       "      <td>-1.0</td>\n",
       "      <td>5.375498</td>\n",
       "      <td>-1.0</td>\n",
       "      <td>2021-12-22 08:36:35</td>\n",
       "    </tr>\n",
       "    <tr>\n",
       "      <th>4</th>\n",
       "      <td>-1.720514e-10</td>\n",
       "      <td>-1.393096</td>\n",
       "      <td>-1.0</td>\n",
       "      <td>5.376279</td>\n",
       "      <td>-1.0</td>\n",
       "      <td>2021-12-22 08:56:25</td>\n",
       "    </tr>\n",
       "  </tbody>\n",
       "</table>\n",
       "</div>"
      ],
      "text/plain": [
       "   corrected observation  temperature  target_variable  water_level  Distance  \\\n",
       "0          -1.637105e-10    -3.059853             -1.0     5.380181      -1.0   \n",
       "1          -1.649122e-10    -2.744339             -1.0     5.380181      -1.0   \n",
       "2          -1.679672e-10    -2.375446             -1.0     5.379704      -1.0   \n",
       "3          -1.692284e-10    -1.943739             -1.0     5.375498      -1.0   \n",
       "4          -1.720514e-10    -1.393096             -1.0     5.376279      -1.0   \n",
       "\n",
       "                 Time  \n",
       "0 2021-12-22 07:36:25  \n",
       "1 2021-12-22 07:56:26  \n",
       "2 2021-12-22 08:16:25  \n",
       "3 2021-12-22 08:36:35  \n",
       "4 2021-12-22 08:56:25  "
      ]
     },
     "execution_count": 32,
     "metadata": {},
     "output_type": "execute_result"
    }
   ],
   "source": [
    "for method,optimizer in zip(methods_list,optimizers_list):\n",
    "    print(method,optimizer)\n",
    "    res=deploy(model,df,method,optimizer)\n",
    "res.head()"
   ]
  },
  {
   "cell_type": "code",
   "execution_count": 33,
   "id": "6716d316",
   "metadata": {},
   "outputs": [],
   "source": [
    "id_res_var=180\n",
    "df_res =prepare_corrected_obs(res,id_res_var)"
   ]
  },
  {
   "cell_type": "code",
   "execution_count": 34,
   "id": "d559a943",
   "metadata": {},
   "outputs": [
    {
     "data": {
      "text/html": [
       "<div>\n",
       "<style scoped>\n",
       "    .dataframe tbody tr th:only-of-type {\n",
       "        vertical-align: middle;\n",
       "    }\n",
       "\n",
       "    .dataframe tbody tr th {\n",
       "        vertical-align: top;\n",
       "    }\n",
       "\n",
       "    .dataframe thead th {\n",
       "        text-align: right;\n",
       "    }\n",
       "</style>\n",
       "<table border=\"1\" class=\"dataframe\">\n",
       "  <thead>\n",
       "    <tr style=\"text-align: right;\">\n",
       "      <th></th>\n",
       "      <th>timestamp</th>\n",
       "      <th>value</th>\n",
       "      <th>variable_id</th>\n",
       "    </tr>\n",
       "  </thead>\n",
       "  <tbody>\n",
       "    <tr>\n",
       "      <th>0</th>\n",
       "      <td>2021-12-22 07:36:25</td>\n",
       "      <td>-1.637105e-10</td>\n",
       "      <td>180</td>\n",
       "    </tr>\n",
       "    <tr>\n",
       "      <th>1</th>\n",
       "      <td>2021-12-22 07:56:26</td>\n",
       "      <td>-1.649122e-10</td>\n",
       "      <td>180</td>\n",
       "    </tr>\n",
       "    <tr>\n",
       "      <th>2</th>\n",
       "      <td>2021-12-22 08:16:25</td>\n",
       "      <td>-1.679672e-10</td>\n",
       "      <td>180</td>\n",
       "    </tr>\n",
       "    <tr>\n",
       "      <th>3</th>\n",
       "      <td>2021-12-22 08:36:35</td>\n",
       "      <td>-1.692284e-10</td>\n",
       "      <td>180</td>\n",
       "    </tr>\n",
       "    <tr>\n",
       "      <th>4</th>\n",
       "      <td>2021-12-22 08:56:25</td>\n",
       "      <td>-1.720514e-10</td>\n",
       "      <td>180</td>\n",
       "    </tr>\n",
       "  </tbody>\n",
       "</table>\n",
       "</div>"
      ],
      "text/plain": [
       "            timestamp         value  variable_id\n",
       "0 2021-12-22 07:36:25 -1.637105e-10          180\n",
       "1 2021-12-22 07:56:26 -1.649122e-10          180\n",
       "2 2021-12-22 08:16:25 -1.679672e-10          180\n",
       "3 2021-12-22 08:36:35 -1.692284e-10          180\n",
       "4 2021-12-22 08:56:25 -1.720514e-10          180"
      ]
     },
     "execution_count": 34,
     "metadata": {},
     "output_type": "execute_result"
    }
   ],
   "source": [
    "df_res.head()"
   ]
  },
  {
   "cell_type": "code",
   "execution_count": 35,
   "id": "3bf2492e",
   "metadata": {},
   "outputs": [
    {
     "name": "stdout",
     "output_type": "stream",
     "text": [
      "Insert dataframe done with success!\n"
     ]
    }
   ],
   "source": [
    "queryManager.deleteData(id_res_var, '1967-01-01 00:00:00.00+02:00')\n",
    "queryManager.db.insertDataframe(df_res, 'raw_data_save') "
   ]
  },
  {
   "cell_type": "code",
   "execution_count": null,
   "id": "988d440f",
   "metadata": {},
   "outputs": [],
   "source": []
  },
  {
   "cell_type": "code",
   "execution_count": null,
   "id": "04335166",
   "metadata": {},
   "outputs": [],
   "source": []
  },
  {
   "cell_type": "code",
   "execution_count": null,
   "id": "3eb8ac6e",
   "metadata": {},
   "outputs": [],
   "source": []
  },
  {
   "cell_type": "code",
   "execution_count": null,
   "id": "d9e8d636",
   "metadata": {},
   "outputs": [],
   "source": []
  }
 ],
 "metadata": {
  "kernelspec": {
   "display_name": "Python 3 (ipykernel)",
   "language": "python",
   "name": "python3"
  },
  "language_info": {
   "codemirror_mode": {
    "name": "ipython",
    "version": 3
   },
   "file_extension": ".py",
   "mimetype": "text/x-python",
   "name": "python",
   "nbconvert_exporter": "python",
   "pygments_lexer": "ipython3",
   "version": "3.9.7"
  }
 },
 "nbformat": 4,
 "nbformat_minor": 5
}
