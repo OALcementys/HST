{
 "cells": [
  {
   "cell_type": "code",
   "execution_count": 1,
   "id": "caec8030",
   "metadata": {},
   "outputs": [],
   "source": [
    "from database import *\n",
    "import psycopg2\n",
    "from HST_variations import *\n",
    "from psycopg2.extras import register_json\n",
    "import pandas as pd\n",
    "from io import StringIO\n",
    "import os\n",
    "import pandas as pd\n",
    "import json\n",
    "import numpy as np\n",
    "import warnings\n",
    "warnings.filterwarnings('ignore')"
   ]
  },
  {
   "cell_type": "code",
   "execution_count": 2,
   "id": "4e5e1e7e",
   "metadata": {},
   "outputs": [],
   "source": [
    "dbHost = '13.36.221.162'\n",
    "dbName = 'thminsight'\n",
    "dbUser = 'thminsight'\n",
    "dbPort = '5432'\n",
    "dbPassword = 'psS8hqr6oaoJ7fgk'"
   ]
  },
  {
   "cell_type": "code",
   "execution_count": 3,
   "id": "66b9c61f",
   "metadata": {},
   "outputs": [
    {
     "name": "stdout",
     "output_type": "stream",
     "text": [
      "Database Ready\n",
      "Database Ready\n"
     ]
    }
   ],
   "source": [
    "db=Database(dbHost, dbName, dbUser,dbPassword,dbPort )\n",
    "queryManager = Query(dbHost, dbName, dbUser,dbPort, dbPassword)"
   ]
  },
  {
   "cell_type": "code",
   "execution_count": null,
   "id": "cacdfb49",
   "metadata": {},
   "outputs": [],
   "source": []
  },
  {
   "cell_type": "code",
   "execution_count": 4,
   "id": "a6626a0c",
   "metadata": {},
   "outputs": [],
   "source": [
    "id_temperature_var = 1245\n",
    "id_water_level_var = 1246\n",
    "id_tv_var=1238\n",
    "id_new_var=1238\n",
    "id_new_var2=1238\n",
    "id_res_var = 0\n",
    "res_metric_id = 47\n",
    "res_name = 'res'"
   ]
  },
  {
   "cell_type": "code",
   "execution_count": null,
   "id": "a1164e47",
   "metadata": {},
   "outputs": [],
   "source": [
    "\n",
    "    "
   ]
  },
  {
   "cell_type": "code",
   "execution_count": 5,
   "id": "546749e0",
   "metadata": {},
   "outputs": [],
   "source": [
    "##step 1 : choose target column\n",
    "target_column= 'target_variable'\n",
    "df_def = queryManager.get_df_by_variable_id(id_tv_var, target_column)\n",
    "target_variable_name=queryManager.get_variable_name_by_id(id_tv_var)\n",
    "\n",
    "## step2 : choose model variables (Variables explicatives)\n",
    "\n",
    "df_temp = queryManager.get_df_by_variable_id(id_temperature_var,'temperature')\n",
    "df_H = queryManager.get_df_by_variable_id(id_water_level_var, 'water_level')\n",
    "\n",
    "\n",
    "##somee added variables to model ##potentielly\n",
    "var_name=queryManager.get_variable_name_by_id(id_new_var)\n",
    "var_name2=queryManager.get_variable_name_by_id(id_new_var2)\n",
    "\n",
    "\n",
    "##add variables explicatives to model \n",
    "df_V=queryManager.get_df_by_variable_id(id_new_var, var_name)\n",
    "df_V1=queryManager.get_df_by_variable_id(id_new_var2, var_name2)"
   ]
  },
  {
   "cell_type": "code",
   "execution_count": 6,
   "id": "ff27b438",
   "metadata": {},
   "outputs": [],
   "source": [
    "model=['H','S']"
   ]
  },
  {
   "cell_type": "code",
   "execution_count": 7,
   "id": "79f3db6b",
   "metadata": {},
   "outputs": [],
   "source": [
    "dataframes=[df_def,df_H]"
   ]
  },
  {
   "cell_type": "code",
   "execution_count": 8,
   "id": "5ed34ae1",
   "metadata": {},
   "outputs": [
    {
     "data": {
      "text/html": [
       "<div>\n",
       "<style scoped>\n",
       "    .dataframe tbody tr th:only-of-type {\n",
       "        vertical-align: middle;\n",
       "    }\n",
       "\n",
       "    .dataframe tbody tr th {\n",
       "        vertical-align: top;\n",
       "    }\n",
       "\n",
       "    .dataframe thead th {\n",
       "        text-align: right;\n",
       "    }\n",
       "</style>\n",
       "<table border=\"1\" class=\"dataframe\">\n",
       "  <thead>\n",
       "    <tr style=\"text-align: right;\">\n",
       "      <th></th>\n",
       "      <th>Time</th>\n",
       "      <th>target_variable</th>\n",
       "      <th>water_level</th>\n",
       "    </tr>\n",
       "  </thead>\n",
       "  <tbody>\n",
       "    <tr>\n",
       "      <th>1</th>\n",
       "      <td>2022-02-18 05:08:44</td>\n",
       "      <td>-1.0</td>\n",
       "      <td>5.380181</td>\n",
       "    </tr>\n",
       "    <tr>\n",
       "      <th>2</th>\n",
       "      <td>2022-02-23 01:48:13</td>\n",
       "      <td>-1.0</td>\n",
       "      <td>5.379942</td>\n",
       "    </tr>\n",
       "    <tr>\n",
       "      <th>3</th>\n",
       "      <td>2022-02-22 08:28:17</td>\n",
       "      <td>-1.0</td>\n",
       "      <td>5.379704</td>\n",
       "    </tr>\n",
       "    <tr>\n",
       "      <th>4</th>\n",
       "      <td>2022-02-22 22:28:14</td>\n",
       "      <td>-1.0</td>\n",
       "      <td>5.377601</td>\n",
       "    </tr>\n",
       "    <tr>\n",
       "      <th>5</th>\n",
       "      <td>2022-02-23 14:08:10</td>\n",
       "      <td>-1.0</td>\n",
       "      <td>5.375498</td>\n",
       "    </tr>\n",
       "  </tbody>\n",
       "</table>\n",
       "</div>"
      ],
      "text/plain": [
       "                 Time  target_variable  water_level\n",
       "1 2022-02-18 05:08:44             -1.0     5.380181\n",
       "2 2022-02-23 01:48:13             -1.0     5.379942\n",
       "3 2022-02-22 08:28:17             -1.0     5.379704\n",
       "4 2022-02-22 22:28:14             -1.0     5.377601\n",
       "5 2022-02-23 14:08:10             -1.0     5.375498"
      ]
     },
     "execution_count": 8,
     "metadata": {},
     "output_type": "execute_result"
    }
   ],
   "source": [
    "df=final_prep(dataframes)\n",
    "df.head()"
   ]
  },
  {
   "cell_type": "code",
   "execution_count": 9,
   "id": "52d81889",
   "metadata": {},
   "outputs": [
    {
     "data": {
      "text/plain": [
       "9887"
      ]
     },
     "execution_count": 9,
     "metadata": {},
     "output_type": "execute_result"
    }
   ],
   "source": [
    "len(df)"
   ]
  },
  {
   "cell_type": "code",
   "execution_count": 10,
   "id": "3a2b9f4b",
   "metadata": {},
   "outputs": [],
   "source": [
    "optimizers_list=['SGD','Adam', 'AdamW','Adamax','ASGD','Adagrad']\n",
    "methods_list=['std_regression',\n",
    "              'std_regression_cross',\n",
    "              'use_NN_optimizer',\n",
    "              'use_NN_optimizer_cross',\n",
    "             'use_bayesian_approch']"
   ]
  },
  {
   "cell_type": "code",
   "execution_count": 11,
   "id": "a65768f2",
   "metadata": {},
   "outputs": [
    {
     "name": "stdout",
     "output_type": "stream",
     "text": [
      "std_regression SGD\n",
      "std_regression_cross Adam\n",
      "use_NN_optimizer AdamW\n",
      "use_NN_optimizer_cross Adamax\n",
      "use_bayesian_approch ASGD\n"
     ]
    },
    {
     "data": {
      "text/html": [
       "<div>\n",
       "<style scoped>\n",
       "    .dataframe tbody tr th:only-of-type {\n",
       "        vertical-align: middle;\n",
       "    }\n",
       "\n",
       "    .dataframe tbody tr th {\n",
       "        vertical-align: top;\n",
       "    }\n",
       "\n",
       "    .dataframe thead th {\n",
       "        text-align: right;\n",
       "    }\n",
       "</style>\n",
       "<table border=\"1\" class=\"dataframe\">\n",
       "  <thead>\n",
       "    <tr style=\"text-align: right;\">\n",
       "      <th></th>\n",
       "      <th>corrected observation</th>\n",
       "      <th>Time</th>\n",
       "      <th>target_variable</th>\n",
       "      <th>water_level</th>\n",
       "    </tr>\n",
       "  </thead>\n",
       "  <tbody>\n",
       "    <tr>\n",
       "      <th>1</th>\n",
       "      <td>7.225331e-13</td>\n",
       "      <td>2022-02-18 05:08:44</td>\n",
       "      <td>-1.0</td>\n",
       "      <td>5.380181</td>\n",
       "    </tr>\n",
       "    <tr>\n",
       "      <th>2</th>\n",
       "      <td>7.231993e-13</td>\n",
       "      <td>2022-02-23 01:48:13</td>\n",
       "      <td>-1.0</td>\n",
       "      <td>5.379942</td>\n",
       "    </tr>\n",
       "    <tr>\n",
       "      <th>3</th>\n",
       "      <td>7.029932e-13</td>\n",
       "      <td>2022-02-22 08:28:17</td>\n",
       "      <td>-1.0</td>\n",
       "      <td>5.379704</td>\n",
       "    </tr>\n",
       "    <tr>\n",
       "      <th>4</th>\n",
       "      <td>7.054357e-13</td>\n",
       "      <td>2022-02-22 22:28:14</td>\n",
       "      <td>-1.0</td>\n",
       "      <td>5.377601</td>\n",
       "    </tr>\n",
       "    <tr>\n",
       "      <th>5</th>\n",
       "      <td>7.056578e-13</td>\n",
       "      <td>2022-02-23 14:08:10</td>\n",
       "      <td>-1.0</td>\n",
       "      <td>5.375498</td>\n",
       "    </tr>\n",
       "  </tbody>\n",
       "</table>\n",
       "</div>"
      ],
      "text/plain": [
       "   corrected observation                Time  target_variable  water_level\n",
       "1           7.225331e-13 2022-02-18 05:08:44             -1.0     5.380181\n",
       "2           7.231993e-13 2022-02-23 01:48:13             -1.0     5.379942\n",
       "3           7.029932e-13 2022-02-22 08:28:17             -1.0     5.379704\n",
       "4           7.054357e-13 2022-02-22 22:28:14             -1.0     5.377601\n",
       "5           7.056578e-13 2022-02-23 14:08:10             -1.0     5.375498"
      ]
     },
     "execution_count": 11,
     "metadata": {},
     "output_type": "execute_result"
    }
   ],
   "source": [
    "for method,optimizer in zip(methods_list,optimizers_list):\n",
    "    print(method,optimizer)\n",
    "    res=deploy(model,df,target_column,method,optimizer)\n",
    "res.head()"
   ]
  },
  {
   "cell_type": "code",
   "execution_count": 12,
   "id": "a35acdbc",
   "metadata": {},
   "outputs": [
    {
     "data": {
      "text/plain": [
       "(9887, 4)"
      ]
     },
     "execution_count": 12,
     "metadata": {},
     "output_type": "execute_result"
    }
   ],
   "source": [
    "res.shape"
   ]
  },
  {
   "cell_type": "code",
   "execution_count": 13,
   "id": "4b8b96e0",
   "metadata": {},
   "outputs": [],
   "source": [
    "id_res_var=180\n",
    "df_res =prepare_corrected_obs(res,id_res_var)"
   ]
  },
  {
   "cell_type": "code",
   "execution_count": 14,
   "id": "128c348a",
   "metadata": {},
   "outputs": [
    {
     "data": {
      "text/html": [
       "<div>\n",
       "<style scoped>\n",
       "    .dataframe tbody tr th:only-of-type {\n",
       "        vertical-align: middle;\n",
       "    }\n",
       "\n",
       "    .dataframe tbody tr th {\n",
       "        vertical-align: top;\n",
       "    }\n",
       "\n",
       "    .dataframe thead th {\n",
       "        text-align: right;\n",
       "    }\n",
       "</style>\n",
       "<table border=\"1\" class=\"dataframe\">\n",
       "  <thead>\n",
       "    <tr style=\"text-align: right;\">\n",
       "      <th></th>\n",
       "      <th>timestamp</th>\n",
       "      <th>value</th>\n",
       "      <th>variable_id</th>\n",
       "    </tr>\n",
       "  </thead>\n",
       "  <tbody>\n",
       "    <tr>\n",
       "      <th>1</th>\n",
       "      <td>2022-02-18 05:08:44</td>\n",
       "      <td>7.225331e-13</td>\n",
       "      <td>180</td>\n",
       "    </tr>\n",
       "    <tr>\n",
       "      <th>2</th>\n",
       "      <td>2022-02-23 01:48:13</td>\n",
       "      <td>7.231993e-13</td>\n",
       "      <td>180</td>\n",
       "    </tr>\n",
       "    <tr>\n",
       "      <th>3</th>\n",
       "      <td>2022-02-22 08:28:17</td>\n",
       "      <td>7.029932e-13</td>\n",
       "      <td>180</td>\n",
       "    </tr>\n",
       "    <tr>\n",
       "      <th>4</th>\n",
       "      <td>2022-02-22 22:28:14</td>\n",
       "      <td>7.054357e-13</td>\n",
       "      <td>180</td>\n",
       "    </tr>\n",
       "    <tr>\n",
       "      <th>5</th>\n",
       "      <td>2022-02-23 14:08:10</td>\n",
       "      <td>7.056578e-13</td>\n",
       "      <td>180</td>\n",
       "    </tr>\n",
       "  </tbody>\n",
       "</table>\n",
       "</div>"
      ],
      "text/plain": [
       "            timestamp         value  variable_id\n",
       "1 2022-02-18 05:08:44  7.225331e-13          180\n",
       "2 2022-02-23 01:48:13  7.231993e-13          180\n",
       "3 2022-02-22 08:28:17  7.029932e-13          180\n",
       "4 2022-02-22 22:28:14  7.054357e-13          180\n",
       "5 2022-02-23 14:08:10  7.056578e-13          180"
      ]
     },
     "execution_count": 14,
     "metadata": {},
     "output_type": "execute_result"
    }
   ],
   "source": [
    "df_res.head()"
   ]
  },
  {
   "cell_type": "code",
   "execution_count": 16,
   "id": "3bf2492e",
   "metadata": {},
   "outputs": [
    {
     "name": "stdout",
     "output_type": "stream",
     "text": [
      "Insert dataframe done with success!\n"
     ]
    }
   ],
   "source": [
    "queryManager.deleteData(id_res_var, '1967-01-01 00:00:00.00+02:00')\n",
    "queryManager.db.insertDataframe(df_res, 'raw_data_save') "
   ]
  },
  {
   "cell_type": "code",
   "execution_count": null,
   "id": "7e9f6414",
   "metadata": {},
   "outputs": [],
   "source": []
  },
  {
   "cell_type": "code",
   "execution_count": null,
   "id": "12700670",
   "metadata": {},
   "outputs": [],
   "source": []
  },
  {
   "cell_type": "code",
   "execution_count": null,
   "id": "f5a6396f",
   "metadata": {},
   "outputs": [],
   "source": []
  },
  {
   "cell_type": "code",
   "execution_count": null,
   "id": "6f6cc06f",
   "metadata": {},
   "outputs": [],
   "source": []
  }
 ],
 "metadata": {
  "kernelspec": {
   "display_name": "Python 3 (ipykernel)",
   "language": "python",
   "name": "python3"
  },
  "language_info": {
   "codemirror_mode": {
    "name": "ipython",
    "version": 3
   },
   "file_extension": ".py",
   "mimetype": "text/x-python",
   "name": "python",
   "nbconvert_exporter": "python",
   "pygments_lexer": "ipython3",
   "version": "3.9.7"
  }
 },
 "nbformat": 4,
 "nbformat_minor": 5
}
